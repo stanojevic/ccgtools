{
 "cells": [
  {
   "cell_type": "code",
   "execution_count": null,
   "metadata": {
    "id": "QlVboOVExZIZ"
   },
   "outputs": [],
   "source": [
    "# you need to have graphviz installed -- usually installed on google colab\n",
    "! sudo apt-get install graphviz -qq\n",
    "# you also need pdflatex -- usually not installed by default on google colab\n",
    "# needed if you want to have standard way of visualizing CCG derivations\n",
    "! sudo apt-get install texlive-latex-extra dvipng -qq"
   ]
  },
  {
   "cell_type": "code",
   "execution_count": null,
   "metadata": {
    "colab": {
     "base_uri": "https://localhost:8080/"
    },
    "id": "crtT4bUY0BBA",
    "outputId": "d3e58465-60cd-4168-fbaa-d774c765973b"
   },
   "outputs": [],
   "source": [
    "! pip install -qq --upgrade git+https://github.com/stanojevic/ccgtools"
   ]
  },
  {
   "cell_type": "code",
   "execution_count": null,
   "metadata": {
    "id": "Z5QBc0VVvtxI"
   },
   "outputs": [],
   "source": [
    "import ccg"
   ]
  },
  {
   "cell_type": "code",
   "execution_count": null,
   "metadata": {
    "id": "Bfbs0ZdXv7LU"
   },
   "outputs": [],
   "source": [
    "tree = ccg.str2deriv(\"(<T S[dcl] 0 2> (<T S[dcl] 1 2> (<T NP 0 1> (<L N X X Investors N>) ) (<T S[dcl]\\\\NP 0 2> (<L (S[dcl]\\\\NP)/(S[ng]\\\\NP) X X are (S[dcl]\\\\NP)/(S[ng]\\\\NP)>) (<T S[ng]\\\\NP 0 2> (<T (S[ng]\\\\NP)/(S[to]\\\\NP) 0 2> (<L ((S[ng]\\\\NP)/(S[to]\\\\NP))/PP X X appealing ((S[ng]\\\\NP)/(S[to]\\\\NP))/PP>) (<T PP 0 2> (<L PP/NP X X to PP/NP>) (<T NP 0 2> (<L NP/N X X the NP/N>) (<T N 0 2> (<L N/N X X Securities N/N>) (<T N 0 2> (<L conj X X and conj>) (<T N 0 2> (<L N/N X X Exchange N/N>) (<L N X X Commission N>) ) ) ) ) ) ) (<T S[to]\\\\NP 0 2> (<L (S\\\\NP)/(S\\\\NP) X X not (S\\\\NP)/(S\\\\NP)>) (<T S[to]\\\\NP 0 2> (<L (S[to]\\\\NP)/(S[b]\\\\NP) X X to (S[to]\\\\NP)/(S[b]\\\\NP)>) (<T S[b]\\\\NP 0 2> (<L (S[b]\\\\NP)/NP X X limit (S[b]\\\\NP)/NP>) (<T NP 1 2> (<T NP 0 2> (<L NP/N X X their NP/N>) (<L N X X access N>) ) (<T NP\\\\NP 0 2> (<L (NP\\\\NP)/NP X X to (NP\\\\NP)/NP>) (<T NP 1 2> (<T NP 0 1> (<L N X X information N>) ) (<T NP\\\\NP 0 2> (<L (NP\\\\NP)/NP X X about (NP\\\\NP)/NP>) (<T NP 1 2> (<T NP 0 1> (<T N 0 2> (<L N/N X X stock N/N>) (<T N 0 2> (<L N X X purchases N>) (<T N[conj] 0 2> (<L conj X X and conj>) (<L N X X sales N>) ) ) ) ) (<T NP\\\\NP 0 2> (<L (NP\\\\NP)/NP X X by (NP\\\\NP)/NP>) (<T NP 0 1> (<T N 0 2> (<L N/N X X corporate N/N>) (<L N X X insiders N>) ) ) ) ) ) ) ) ) ) ) ) ) ) ) (<L . X X . .>) )\")"
   ]
  },
  {
   "cell_type": "code",
   "execution_count": null,
   "metadata": {
    "colab": {
     "base_uri": "https://localhost:8080/",
     "height": 398
    },
    "id": "B4ccPDVfxQey",
    "outputId": "d287bb5f-3f1d-4cca-b1fc-4d398ff47d7f"
   },
   "outputs": [],
   "source": [
    "tree.show_proof()"
   ]
  },
  {
   "cell_type": "code",
   "execution_count": null,
   "metadata": {
    "colab": {
     "base_uri": "https://localhost:8080/",
     "height": 561
    },
    "id": "Bzj55PyIxHaI",
    "outputId": "048f68fe-f633-4f1c-8f8e-fd3a4e02d4e6"
   },
   "outputs": [],
   "source": [
    "tree.show_deps()"
   ]
  }
 ],
 "metadata": {
  "colab": {
   "name": "Untitled1.ipynb",
   "provenance": []
  },
  "kernelspec": {
   "display_name": "Python 3 (ipykernel)",
   "language": "python",
   "name": "python3"
  },
  "language_info": {
   "codemirror_mode": {
    "name": "ipython",
    "version": 3
   },
   "file_extension": ".py",
   "mimetype": "text/x-python",
   "name": "python",
   "nbconvert_exporter": "python",
   "pygments_lexer": "ipython3",
   "version": "3.9.1"
  }
 },
 "nbformat": 4,
 "nbformat_minor": 1
}
